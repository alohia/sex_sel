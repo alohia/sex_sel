{
 "cells": [
  {
   "cell_type": "code",
   "execution_count": 30,
   "metadata": {
    "collapsed": false
   },
   "outputs": [
    {
     "name": "stdout",
     "output_type": "stream",
     "text": [
      "echo job1; castes=(28 14 14 38 33 28 28 33 14 38 28 1);qsub runest.sh ${castes[@]}\n",
      "echo job2; castes=(5 28 1 38 38 1 28 38 38 1 28 2);qsub runest.sh ${castes[@]}\n",
      "echo job3; castes=(38 28 28 33 28 14 14 33 38 14 1 3);qsub runest.sh ${castes[@]}\n",
      "echo job4; castes=(28 28 28 28 44 1 28 28 28 28 44 4);qsub runest.sh ${castes[@]}\n",
      "echo job5; castes=(28 28 38 38 23 1 38 28 28 33 33 5);qsub runest.sh ${castes[@]}\n",
      "echo job6; castes=(38 28 33 38 28 28 10 38 1 38 7 6);qsub runest.sh ${castes[@]}\n",
      "echo job7; castes=(28 38 28 14 38 38 28 38 38 28 28 7);qsub runest.sh ${castes[@]}\n",
      "echo job8; castes=(28 5 28 38 38 28 1 1 28 33 38 8);qsub runest.sh ${castes[@]}\n",
      "echo job9; castes=(28 38 28 28 28 28 38 28 14 28 28 9);qsub runest.sh ${castes[@]}\n",
      "echo job10; castes=(38 38 44 10 28 38 28 38 38 28 38 10);qsub runest.sh ${castes[@]}\n"
     ]
    }
   ],
   "source": [
    "import numpy as np\n",
    "castes = [1,5,7,10,14,17,23,28,33,38,44]\n",
    "weights = [0.0993755, 0.018955, 0.0152386, 0.0223536, 0.0594485, 0.0113426, 0.0184714, 0.4081402, 0.0591307, 0.2718494, 0.0156945]\n",
    "for i in range(1,11):\n",
    "    cur_sample = np.append(np.random.choice(castes, 11, p=weights),i)\n",
    "    print('echo job' + str(i) + '; castes=(' + str(\" \".join( repr(e) for e in cur_sample )) + ');qsub runest.sh ${castes[@]}')"
   ]
  },
  {
   "cell_type": "code",
   "execution_count": 1,
   "metadata": {
    "collapsed": false
   },
   "outputs": [
    {
     "name": "stdout",
     "output_type": "stream",
     "text": [
      "echo job1; castes=(23 7 4 17 1 28 33 23 7 17 44 38 1);qsub runest.sh ${castes[@]}\n",
      "echo job2; castes=(44 7 5 10 1 14 1 23 28 14 14 14 2);qsub runest.sh ${castes[@]}\n",
      "echo job3; castes=(33 4 14 10 10 14 23 17 33 33 1 5 3);qsub runest.sh ${castes[@]}\n",
      "echo job4; castes=(14 33 23 5 23 44 23 5 17 14 17 28 4);qsub runest.sh ${castes[@]}\n",
      "echo job5; castes=(23 14 44 44 44 38 5 44 17 10 14 1 5);qsub runest.sh ${castes[@]}\n",
      "echo job6; castes=(14 33 17 44 38 10 33 14 28 44 44 28 6);qsub runest.sh ${castes[@]}\n",
      "echo job7; castes=(14 17 1 23 14 28 5 44 10 17 23 14 7);qsub runest.sh ${castes[@]}\n",
      "echo job8; castes=(1 4 44 28 14 23 23 10 23 14 14 28 8);qsub runest.sh ${castes[@]}\n",
      "echo job9; castes=(28 28 28 38 33 7 14 10 7 28 10 10 9);qsub runest.sh ${castes[@]}\n",
      "echo job10; castes=(5 17 4 38 5 1 23 38 17 28 44 10 10);qsub runest.sh ${castes[@]}\n"
     ]
    }
   ],
   "source": [
    "import numpy as np\n",
    "castes = [1,4,5,7,10,14,17,23,28,33,38,44]\n",
    "#weights = [0.0993755, 0.018955, 0.0152386, 0.0223536, 0.0594485, 0.0113426, 0.0184714, 0.4081402, 0.0591307, 0.2718494, 0.0156945]\n",
    "for i in range(1,11):\n",
    "    cur_sample = np.append(np.random.choice(castes, 12),i)\n",
    "    print('echo job' + str(i) + '; castes=(' + str(\" \".join( repr(e) for e in cur_sample )) + ');qsub runest.sh ${castes[@]}')"
   ]
  },
  {
   "cell_type": "code",
   "execution_count": null,
   "metadata": {
    "collapsed": true
   },
   "outputs": [],
   "source": []
  }
 ],
 "metadata": {
  "kernelspec": {
   "display_name": "Python 3",
   "language": "python",
   "name": "python3"
  },
  "language_info": {
   "codemirror_mode": {
    "name": "ipython",
    "version": 3
   },
   "file_extension": ".py",
   "mimetype": "text/x-python",
   "name": "python",
   "nbconvert_exporter": "python",
   "pygments_lexer": "ipython3",
   "version": "3.5.2"
  }
 },
 "nbformat": 4,
 "nbformat_minor": 2
}
